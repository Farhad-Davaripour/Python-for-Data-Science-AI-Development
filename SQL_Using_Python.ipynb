{
 "cells": [
  {
   "cell_type": "markdown",
   "id": "f9bf7060",
   "metadata": {},
   "source": [
    "__This is an example to access IBM DB2 cloud using python, which is a part of \"Databases and SQL for Data Science\" course offered by Coursera.org__   \n",
    "The skeleton of the solution is provided in the course."
   ]
  },
  {
   "cell_type": "code",
   "execution_count": 141,
   "id": "a76f76ad",
   "metadata": {},
   "outputs": [],
   "source": [
    "import ibm_db"
   ]
  },
  {
   "cell_type": "code",
   "execution_count": 142,
   "id": "d4bb1efe",
   "metadata": {},
   "outputs": [],
   "source": [
    "# entering the database credentials\n",
    "dsn_hostname = \"fill out your credential\"\n",
    "dsn_uid = \"fill out your credential\"\n",
    "dsn_pwd = \"fill out your credential\"\n",
    "dsn_driver = \"IBM DB2 ODBC DRIVER\"\n",
    "dsn_database = \"bludb\"\n",
    "dsn_port = \"fill out your credential\"\n",
    "dsn_protocol = \"TCPIP\"\n",
    "dsn_security = \"SSL\""
   ]
  },
  {
   "cell_type": "code",
   "execution_count": 143,
   "id": "eeeb3f62",
   "metadata": {},
   "outputs": [
    {
     "name": "stdout",
     "output_type": "stream",
     "text": [
      "DRIVER=IBM DB2 ODBC DRIVER;DATABASE=bludb;HOSTNAME=2f3279a5-73d1-4859-88f0-a6c3e6b4b907.c3n41cmd0nqnrk39u98g.databases.appdomain.cloud;PORT=30756;PROTOCOL=TCPIP;UID=bhq31741;PWD=GaHYo99G1Mtzvefk;SECURITY=SSL;\n"
     ]
    }
   ],
   "source": [
    "# creating the dsn connection string\n",
    "dsn = (\n",
    "    \"DRIVER={0};\"\n",
    "    \"DATABASE={1};\"\n",
    "    \"HOSTNAME={2};\"\n",
    "    \"PORT={3};\"\n",
    "    \"PROTOCOL={4};\"\n",
    "    \"UID={5};\"\n",
    "    \"PWD={6};\"\n",
    "    \"SECURITY={7};\").format(dsn_driver,dsn_database,dsn_hostname,dsn_port,dsn_protocol,dsn_uid,dsn_pwd,dsn_security)\n",
    "print(dsn)"
   ]
  },
  {
   "cell_type": "code",
   "execution_count": 144,
   "id": "2f62d29e",
   "metadata": {},
   "outputs": [
    {
     "name": "stdout",
     "output_type": "stream",
     "text": [
      "connected to database:  bludb as user:  bhq31741 on host:  2f3279a5-73d1-4859-88f0-a6c3e6b4b907.c3n41cmd0nqnrk39u98g.databases.appdomain.cloud\n"
     ]
    }
   ],
   "source": [
    "# create database connection\n",
    "try: \n",
    "    conn = ibm_db.connect(dsn, \"\", \"\")\n",
    "    print('connected to database: ',dsn_database, 'as user: ', dsn_uid, 'on host: ', dsn_hostname)\n",
    "except:\n",
    "    print('connection did not work', ibm_db.conn_errormsg())"
   ]
  },
  {
   "cell_type": "code",
   "execution_count": 145,
   "id": "6abaa7f7",
   "metadata": {},
   "outputs": [],
   "source": [
    "# execute the drop table statment\n",
    "dropstmt = ibm_db.exec_immediate(conn, \"drop table middle_east\")"
   ]
  },
  {
   "cell_type": "code",
   "execution_count": 146,
   "id": "df958e40",
   "metadata": {},
   "outputs": [],
   "source": [
    "# execute the create table statment\n",
    "creatStmt = ibm_db.exec_immediate(conn, \"create table middle_east (index int, country varchar(20), population int)\")"
   ]
  },
  {
   "cell_type": "code",
   "execution_count": 147,
   "id": "b1fa4690",
   "metadata": {},
   "outputs": [],
   "source": [
    "# construct the insert query\n",
    "insertQuery = \"insert into middle_east values(1, 'Iran' , 81000000),(2, 'Iraq' , 40000000),(3, 'Saudi_Arabia', 34810000)\"\n",
    "# execute the insert statment\n",
    "insertstmt = ibm_db.exec_immediate(conn, insertQuery)"
   ]
  },
  {
   "cell_type": "code",
   "execution_count": 148,
   "id": "4650e7ec",
   "metadata": {},
   "outputs": [],
   "source": [
    "# construct update query\n",
    "updateQuery = \"UPDATE middle_east SET country='Yeman',population=30000000 WHERE index=3\"\n",
    "# execute the update statment\n",
    "updatestmt = ibm_db.exec_immediate(conn, updateQuery)"
   ]
  },
  {
   "cell_type": "code",
   "execution_count": 149,
   "id": "b5f4f624",
   "metadata": {},
   "outputs": [
    {
     "name": "stdout",
     "output_type": "stream",
     "text": [
      "index_num: 1 ,\t country: Iran ,\t population: 81000000\n",
      "index_num: 2 ,\t country: Iraq ,\t population: 40000000\n",
      "index_num: 3 ,\t country: Yeman ,\t population: 30000000\n"
     ]
    }
   ],
   "source": [
    "# construct the query that retrieves all the rows from the middle_east table\n",
    "selectQuery = 'select * from middle_east'\n",
    "# execute the statment\n",
    "selectstmt = ibm_db.exec_immediate(conn, selectQuery)\n",
    "# fetch all the rows\n",
    "while ibm_db.fetch_row(selectstmt)!=False:\n",
    "    print('index_num:', ibm_db.result(selectstmt , 0),',\\t',\n",
    "          'country:', ibm_db.result(selectstmt , 1),',\\t',\n",
    "          'population:', ibm_db.result(selectstmt , 2))"
   ]
  },
  {
   "cell_type": "markdown",
   "id": "0e1a4798",
   "metadata": {},
   "source": [
    "Retrieving sqp table using pandas"
   ]
  },
  {
   "cell_type": "code",
   "execution_count": 152,
   "id": "72e114a7",
   "metadata": {},
   "outputs": [],
   "source": [
    "import pandas as pd\n",
    "import ibm_db_dbi\n",
    "# create connection for pandas\n",
    "pcon = ibm_db_dbi.Connection(conn)"
   ]
  },
  {
   "cell_type": "code",
   "execution_count": 163,
   "id": "f29904f7",
   "metadata": {},
   "outputs": [
    {
     "data": {
      "text/html": [
       "<div>\n",
       "<style scoped>\n",
       "    .dataframe tbody tr th:only-of-type {\n",
       "        vertical-align: middle;\n",
       "    }\n",
       "\n",
       "    .dataframe tbody tr th {\n",
       "        vertical-align: top;\n",
       "    }\n",
       "\n",
       "    .dataframe thead th {\n",
       "        text-align: right;\n",
       "    }\n",
       "</style>\n",
       "<table border=\"1\" class=\"dataframe\">\n",
       "  <thead>\n",
       "    <tr style=\"text-align: right;\">\n",
       "      <th></th>\n",
       "      <th>COUNTRY</th>\n",
       "      <th>POPULATION</th>\n",
       "    </tr>\n",
       "  </thead>\n",
       "  <tbody>\n",
       "    <tr>\n",
       "      <th>0</th>\n",
       "      <td>Iran</td>\n",
       "      <td>81000000</td>\n",
       "    </tr>\n",
       "    <tr>\n",
       "      <th>1</th>\n",
       "      <td>Iraq</td>\n",
       "      <td>40000000</td>\n",
       "    </tr>\n",
       "    <tr>\n",
       "      <th>2</th>\n",
       "      <td>Yeman</td>\n",
       "      <td>30000000</td>\n",
       "    </tr>\n",
       "  </tbody>\n",
       "</table>\n",
       "</div>"
      ],
      "text/plain": [
       "  COUNTRY  POPULATION\n",
       "0    Iran    81000000\n",
       "1    Iraq    40000000\n",
       "2   Yeman    30000000"
      ]
     },
     "execution_count": 163,
     "metadata": {},
     "output_type": "execute_result"
    }
   ],
   "source": [
    "# query statment to retrieve all the rows form middle_east table\n",
    "selectQuery = 'select * from middle_east'\n",
    "#retrieve the query results into the pandas dataframe\n",
    "pdf = pd.read_sql(selectQuery, pcon)\n",
    "pdf[['COUNTRY','POPULATION']]"
   ]
  },
  {
   "cell_type": "code",
   "execution_count": 165,
   "id": "2607eca3",
   "metadata": {},
   "outputs": [
    {
     "data": {
      "text/plain": [
       "(3, 3)"
      ]
     },
     "execution_count": 165,
     "metadata": {},
     "output_type": "execute_result"
    }
   ],
   "source": [
    "pdf.shape"
   ]
  },
  {
   "cell_type": "code",
   "execution_count": 167,
   "id": "7c74ea52",
   "metadata": {},
   "outputs": [
    {
     "data": {
      "text/plain": [
       "True"
      ]
     },
     "execution_count": 167,
     "metadata": {},
     "output_type": "execute_result"
    }
   ],
   "source": [
    "ibm_db.close(conn)"
   ]
  }
 ],
 "metadata": {
  "kernelspec": {
   "display_name": "Python 3",
   "language": "python",
   "name": "python3"
  },
  "language_info": {
   "codemirror_mode": {
    "name": "ipython",
    "version": 3
   },
   "file_extension": ".py",
   "mimetype": "text/x-python",
   "name": "python",
   "nbconvert_exporter": "python",
   "pygments_lexer": "ipython3",
   "version": "3.8.8"
  }
 },
 "nbformat": 4,
 "nbformat_minor": 5
}
