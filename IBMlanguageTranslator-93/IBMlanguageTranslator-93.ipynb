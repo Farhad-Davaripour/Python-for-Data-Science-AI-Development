{
 "cells": [
  {
   "cell_type": "markdown",
   "id": "50b8cb28",
   "metadata": {},
   "source": [
    "#### This is a hands on practice as a part of ['Python for Data Science, AI & Development'](https://www.coursera.org/learn/python-for-applied-data-science-ai?) provided by [Coursera.org](https://www.coursera.org/).  \n",
    "In this example using IBMlanguageTranslator-93 a text file (originally in English) is translated to french first and then translated back to English.\n",
    "The [text file](text.file) is provided in the course."
   ]
  },
  {
   "cell_type": "code",
   "execution_count": null,
   "id": "a8e54c04",
   "metadata": {},
   "outputs": [],
   "source": [
    "The skeleton and the original text file of this code is derived from 'Python for Data Science, AI & Development' course provided by Coursera.org"
   ]
  },
  {
   "cell_type": "code",
   "execution_count": 1,
   "id": "a32a8713",
   "metadata": {},
   "outputs": [],
   "source": [
    "import os\n",
    "os.chdir('G:\\My Drive\\Career\\IBM certificate\\Database')"
   ]
  },
  {
   "cell_type": "code",
   "execution_count": 13,
   "id": "aeef0c79",
   "metadata": {},
   "outputs": [],
   "source": [
    "from ibm_watson import LanguageTranslatorV3\n",
    "from ibm_cloud_sdk_core.authenticators import IAMAuthenticator"
   ]
  },
  {
   "cell_type": "code",
   "execution_count": 2,
   "id": "94a56876",
   "metadata": {},
   "outputs": [],
   "source": [
    "# Create an instance of the language translator-93 from IBM cloud catalog\n",
    "# by creating a lite account this service is free\n",
    "# After creating the instance, find the url and apikey and copy them below\n",
    "url_lt = 'copy your url in here'\n",
    "api_key =\"copy your apikey in here\" "
   ]
  },
  {
   "cell_type": "code",
   "execution_count": 4,
   "id": "0a9d14ea",
   "metadata": {},
   "outputs": [],
   "source": [
    "version_lt = '2018-05-01'"
   ]
  },
  {
   "cell_type": "code",
   "execution_count": 17,
   "id": "61934625",
   "metadata": {},
   "outputs": [
    {
     "data": {
      "text/plain": [
       "<ibm_watson.language_translator_v3.LanguageTranslatorV3 at 0x1f6c74801c0>"
      ]
     },
     "execution_count": 17,
     "metadata": {},
     "output_type": "execute_result"
    }
   ],
   "source": [
    "authenticat = IAMAuthenticator(api_key)\n",
    "lt = LanguageTranslatorV3(authenticator=authenticat, version=version_lt)\n",
    "lt.set_service_url(url_lt)\n",
    "lt"
   ]
  },
  {
   "cell_type": "code",
   "execution_count": 75,
   "id": "f83b2896",
   "metadata": {
    "collapsed": true
   },
   "outputs": [
    {
     "data": {
      "text/html": [
       "<div>\n",
       "<style scoped>\n",
       "    .dataframe tbody tr th:only-of-type {\n",
       "        vertical-align: middle;\n",
       "    }\n",
       "\n",
       "    .dataframe tbody tr th {\n",
       "        vertical-align: top;\n",
       "    }\n",
       "\n",
       "    .dataframe thead th {\n",
       "        text-align: right;\n",
       "    }\n",
       "</style>\n",
       "<table border=\"1\" class=\"dataframe\">\n",
       "  <thead>\n",
       "    <tr style=\"text-align: right;\">\n",
       "      <th></th>\n",
       "      <th>language</th>\n",
       "      <th>name</th>\n",
       "    </tr>\n",
       "  </thead>\n",
       "  <tbody>\n",
       "    <tr>\n",
       "      <th>0</th>\n",
       "      <td>af</td>\n",
       "      <td>Afrikaans</td>\n",
       "    </tr>\n",
       "    <tr>\n",
       "      <th>1</th>\n",
       "      <td>ar</td>\n",
       "      <td>Arabic</td>\n",
       "    </tr>\n",
       "    <tr>\n",
       "      <th>2</th>\n",
       "      <td>az</td>\n",
       "      <td>Azerbaijani</td>\n",
       "    </tr>\n",
       "    <tr>\n",
       "      <th>3</th>\n",
       "      <td>ba</td>\n",
       "      <td>Bashkir</td>\n",
       "    </tr>\n",
       "    <tr>\n",
       "      <th>4</th>\n",
       "      <td>be</td>\n",
       "      <td>Belarusian</td>\n",
       "    </tr>\n",
       "    <tr>\n",
       "      <th>...</th>\n",
       "      <td>...</td>\n",
       "      <td>...</td>\n",
       "    </tr>\n",
       "    <tr>\n",
       "      <th>71</th>\n",
       "      <td>uk</td>\n",
       "      <td>Ukrainian</td>\n",
       "    </tr>\n",
       "    <tr>\n",
       "      <th>72</th>\n",
       "      <td>ur</td>\n",
       "      <td>Urdu</td>\n",
       "    </tr>\n",
       "    <tr>\n",
       "      <th>73</th>\n",
       "      <td>vi</td>\n",
       "      <td>Vietnamese</td>\n",
       "    </tr>\n",
       "    <tr>\n",
       "      <th>74</th>\n",
       "      <td>zh</td>\n",
       "      <td>Simplified Chinese</td>\n",
       "    </tr>\n",
       "    <tr>\n",
       "      <th>75</th>\n",
       "      <td>zh-TW</td>\n",
       "      <td>Traditional Chinese</td>\n",
       "    </tr>\n",
       "  </tbody>\n",
       "</table>\n",
       "<p>76 rows × 2 columns</p>\n",
       "</div>"
      ],
      "text/plain": [
       "   language                 name\n",
       "0        af            Afrikaans\n",
       "1        ar               Arabic\n",
       "2        az          Azerbaijani\n",
       "3        ba              Bashkir\n",
       "4        be           Belarusian\n",
       "..      ...                  ...\n",
       "71       uk            Ukrainian\n",
       "72       ur                 Urdu\n",
       "73       vi           Vietnamese\n",
       "74       zh   Simplified Chinese\n",
       "75    zh-TW  Traditional Chinese\n",
       "\n",
       "[76 rows x 2 columns]"
      ]
     },
     "execution_count": 75,
     "metadata": {},
     "output_type": "execute_result"
    }
   ],
   "source": [
    "from pandas import json_normalize as jn\n",
    "(jn(lt.list_identifiable_languages().get_result(), 'languages'))"
   ]
  },
  {
   "cell_type": "code",
   "execution_count": 113,
   "id": "8ec6d797",
   "metadata": {},
   "outputs": [
    {
     "name": "stdout",
     "output_type": "stream",
     "text": [
      "in this video we will cover polynomial regression and pipelines \n",
      "\n",
      "what do we do when a linear model is not the best fit for our data let's look into another type of regression model the polynomial regression we transform our data into a polynomial then use linear regression to fit the parameters that we will discuss pipelines pipelines are way to simplify your code \n",
      "\n",
      "polynomial regression is a special case of the general linear regression this method is beneficial for describing curvilinear relationships what is a curvilinear relationship it's what you get by squaring or setting higher order terms of the predictor variables in the model transforming the data the model can be quadratic which means the predictor variable in the model is squared we use a bracket to indicated as an exponent this is the second order polynomial regression with a figure representing the function \n",
      "\n",
      "the model can be cubic which means the predictor variable is cute this is the third order polynomial regression we see by examining the figure that the function has more variation \n",
      "\n",
      "there also exists higher order polynomial regressions when a good fit hasn't been achieved by second or third order we can see in figures how much the graphs change when we change the order of the polynomial regression the degree of the regression makes a big difference and can result in a better fit if you pick the right value in all cases the relationship between the variable in the parameter is always linear \n",
      "\n",
      "let's look at an example from our data we generate a polynomial regression model \n",
      "\n",
      "in python we do this by using the poly fit function in this example we develop a third order polynomial regression model base we can print out the model symbolic form for the model is given by the following expression \n",
      "\n",
      "negative one point five five seven X. one cute plus two hundred four point eight X. one squared plus eight thousand nine hundred sixty five X. one plus one point three seven times ten to the power of five we can also have multi dimensional polynomial linear regression the expression can get complicated here are just some of the terms for two dimensional second order polynomial none pies poly fit function cannot perform this type of regression we use the preprocessing librarian scikit learn to create a polynomial feature object the constructor takes the degree of the polynomial as a parameter then we transform the features into a polynomial feature with the fit underscore transform method let's do a more intuitive example \n",
      "\n",
      "consider the feature shown here applying the method we transform the data we now have a new set of features that are transformed version of our original features as that I mention of the data gets larger we may want to normalize multiple features as scikit learn instead we can use the preprocessing module to simplify many tasks for example we can standardize each feature simultaneously we import standard scaler we train the object fit the scale object then transform the data into a new data frame on a rate X. underscore scale there are more normalization methods available in the pre processing library as well as other transformations we can simplify our code by using a pipeline library there are many steps to getting a prediction for example normalization polynomial transform and linear regression we simplify the process using a pipeline \n",
      "\n",
      "pipeline sequentially perform a series of transformations the last step carries out a prediction first we import all the modules we need then we import the library pipeline we create a list of topples the first element in the topple contains the name of the estimator model the second element contains model constructor we input the list in the pipeline constructor we now have a pipeline object we can train the pipeline by applying the train method to the pipeline object we can also produce a prediction as well \n",
      "\n",
      "the method normalizes the data performs a polynomial transform then outputs a prediction \n",
      "\n"
     ]
    },
    {
     "data": {
      "text/plain": [
       "[None, None, None, None, None, None, None, None, None, None, None]"
      ]
     },
     "execution_count": 113,
     "metadata": {},
     "output_type": "execute_result"
    }
   ],
   "source": [
    "# select a file in your directory which has some texts in English\n",
    "with open('transcribe.txt','r') as readFile:\n",
    "    recognized_text = readFile.readlines()\n",
    "[print(i) for i in recognized_text]"
   ]
  },
  {
   "cell_type": "code",
   "execution_count": 101,
   "id": "a99663b8",
   "metadata": {},
   "outputs": [],
   "source": [
    "tr = lt.translate(text=recognized_text, model_id='en-fr')\n",
    "translation_fr = tr.get_result()"
   ]
  },
  {
   "cell_type": "code",
   "execution_count": 106,
   "id": "4725ec10",
   "metadata": {},
   "outputs": [],
   "source": [
    "tr_fr = []\n",
    "for i in range (len(translation_fr[\"translations\"])):\n",
    "    tr_fr.append(translation_fr['translations'][i]['translation'])"
   ]
  },
  {
   "cell_type": "code",
   "execution_count": 107,
   "id": "6a78fc25",
   "metadata": {},
   "outputs": [],
   "source": [
    "tr_en = lt.translate(text=tr_fr, model_id='fr-en')\n",
    "translation_en = tr_en.get_result()"
   ]
  },
  {
   "cell_type": "code",
   "execution_count": 111,
   "id": "69da09d7",
   "metadata": {},
   "outputs": [
    {
     "name": "stdout",
     "output_type": "stream",
     "text": [
      "In this video, we cover polynomial regression and pipelines \n",
      "\n",
      "What we do when a linear model is not the best fit for our data, let's look at another type of regression model polynomial regression we transform our data into polynomial and then use a linear regression to adjust the parameters we are going to discuss pipeline pipelines are ways to simplify your code \n",
      "\n",
      "Polynomial regression is a special case of the general linear regression this method is beneficial to describe curvilinear relations what is a curvilinear relationship, this is what you get by the quadrature or the definition of the terms of the higher order of the predictor variables in the model transforming the data the model can be quadratic, which means that the predictor in the model is squared on uses a hook to indicate as an exhibitor it is the polynomial regression of second order with a figure representing the function \n",
      "\n",
      "The model can be cubic, which means that the predictor is cute, it is the third-order polynomial regression that we see by looking at the figure that the function has more variation \n",
      "\n",
      "There are also polynomial regressions of higher order when a good fit has not been achieved by the second or third order we can see in numbers how many graphs change when we change the order of polynomial regression the degree of the regression makes a big difference and can give a better fit if you choose the right value in all cases the relationship between the variable in the parameter is always linear \n",
      "\n",
      "Let's look at an example from our data, we generate a polynomial regression model \n",
      "\n",
      "In python we do it using the function of poly fit in this example we develop a base of polynomial regression model of third order we can print the template of the symbolic form for the model is given by the following expression \n",
      "\n",
      "One point five five five five seven X. One cute plus two hundred four points eight X. One square plus eight thousand nine hundred sixty five X. One more point three seven times ten to the power of five we can also have a polynomial polynomial polynomial linear regression the expression can be complicated here are just some of the terms for two polynomial dimensions no poly-function tarts can execute this type of regression that we use the librarian sawkit preprocessing learn to create a polynomial object of object the manufacturer takes the degree of the polynomial as a parameter Then we transform the characteristics into a polynomial function with the underscore conversion method makes it a more intuitive example \n",
      "\n",
      "Consider the functionality shown here to apply the method that we transform the data that we now have a new set of features that are transformed the version of our original functionality, because I mention that the data is larger we can want to normalize several functions as a scikit learn instead we can use the preprocessing module to simplify many tasks, for example we can standardize each function at the same time we import a standard scaler we form the adjustment object of The scale object, then transform the data into a new data frame on an X rate. Underline the scale there are more standardization methods available in the pre-treatment library as well As other transformations we can simplify our code using a pipeline library there are many steps to get a prediction, for example, polynomial conversion of normalization and linear regression simplifies the process by using a pipeline \n",
      "\n",
      "Pipeline sequentially perform a series of transformations the last stage makes a prediction first we import all the modules that we need, then import the pipeline from the library that we create a list of garrisons the first element in the rollover contains the name of the estimator model the second element contains the model builder we input the list in the pipeline builder we now have a pipeline object we can form the pipeline by applying the train method to the pipeline object we can also produce one Prediction also \n",
      "\n",
      "The method normalizes the data executes a polynomial transformation, then generates a forecast \n",
      "\n"
     ]
    }
   ],
   "source": [
    "for i in range(len(translation_en['translations'])):\n",
    "    print(translation_en['translations'][i]['translation'])"
   ]
  }
 ],
 "metadata": {
  "kernelspec": {
   "display_name": "Python 3",
   "language": "python",
   "name": "python3"
  },
  "language_info": {
   "codemirror_mode": {
    "name": "ipython",
    "version": 3
   },
   "file_extension": ".py",
   "mimetype": "text/x-python",
   "name": "python",
   "nbconvert_exporter": "python",
   "pygments_lexer": "ipython3",
   "version": "3.8.8"
  }
 },
 "nbformat": 4,
 "nbformat_minor": 5
}
