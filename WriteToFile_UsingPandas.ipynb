{
 "cells": [
  {
   "cell_type": "markdown",
   "id": "e58098d0",
   "metadata": {},
   "source": [
    "__Below I used Pandas to solve the problem in my privous gist__"
   ]
  },
  {
   "cell_type": "code",
   "execution_count": 42,
   "id": "edba4f3a",
   "metadata": {},
   "outputs": [],
   "source": [
    "#changing the current directory\n",
    "import os\n",
    "curent_directory = 'G:\\My Drive\\Career\\IBM certificate\\Database'\n",
    "os.chdir(curent_directory) # change the curent_directory to your desired directory\n",
    "\n",
    "#importing random module\n",
    "from random import randint as rnd\n",
    "#importing pandas module\n",
    "import pandas as pd\n",
    "\n",
    "num_members = rnd(20,100) # define a random number of members\n",
    "\n",
    "with open(path_original, 'w+') as dataFile: # this function generates a file containing random list of employee num, date of registration, and registration status\n",
    "    dataFile.seek(0)\n",
    "    dataFile.write(\"Employee Number,Date,Active Column\\n\")#generating the first line in the file\n",
    "    data = '{:^15},{:<10},{:<3}\\n'\n",
    "\n",
    "    for each_member in range(num_members):\n",
    "        paid_fee = ('Yes', 'No')\n",
    "        date = str(rnd(1989,2021))+\"-\"+str(rnd(1,12))+\"-\"+str(rnd(1,31))\n",
    "        dataFile.write(data.format((rnd(10000, 88000)),(date),(paid_fee[rnd(0,1)])))\n",
    "\n",
    "df = pd.read_csv('originalFile.txt')\n",
    "currentMem = df[df['Active Column'] == 'Yes']\n",
    "currentMem.to_csv('currentMem.txt')\n",
    "exMem = df[df['Active Column'] == 'No ']\n",
    "exMem.to_csv('exMem.txt')"
   ]
  }
 ],
 "metadata": {
  "kernelspec": {
   "display_name": "Python 3",
   "language": "python",
   "name": "python3"
  },
  "language_info": {
   "codemirror_mode": {
    "name": "ipython",
    "version": 3
   },
   "file_extension": ".py",
   "mimetype": "text/x-python",
   "name": "python",
   "nbconvert_exporter": "python",
   "pygments_lexer": "ipython3",
   "version": "3.8.8"
  }
 },
 "nbformat": 4,
 "nbformat_minor": 5
}
