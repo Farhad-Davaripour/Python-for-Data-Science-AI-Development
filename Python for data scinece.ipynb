{
 "cells": [
  {
   "cell_type": "markdown",
   "id": "25161b26",
   "metadata": {},
   "source": [
    "Hi  \n",
    "<code>interesting</code> and <strong>another interesting<strong>\n",
    "<p>"
   ]
  },
  {
   "cell_type": "code",
   "execution_count": 74,
   "id": "0dc2197b",
   "metadata": {},
   "outputs": [
    {
     "data": {
      "text/plain": [
       "'C:\\\\Users\\\\farha\\\\data'"
      ]
     },
     "execution_count": 74,
     "metadata": {},
     "output_type": "execute_result"
    }
   ],
   "source": [
    "import sys\n",
    "%pwd"
   ]
  }
 ],
 "metadata": {
  "kernelspec": {
   "display_name": "Python 3",
   "language": "python",
   "name": "python3"
  },
  "language_info": {
   "codemirror_mode": {
    "name": "ipython",
    "version": 3
   },
   "file_extension": ".py",
   "mimetype": "text/x-python",
   "name": "python",
   "nbconvert_exporter": "python",
   "pygments_lexer": "ipython3",
   "version": "3.8.8"
  }
 },
 "nbformat": 4,
 "nbformat_minor": 5
}
