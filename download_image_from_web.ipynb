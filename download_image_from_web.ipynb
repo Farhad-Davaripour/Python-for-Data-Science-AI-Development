{
 "cells": [
  {
   "cell_type": "markdown",
   "id": "53c421d0",
   "metadata": {},
   "source": [
    "### Here are two methods to download an image from web on your directory\n",
    "method #1"
   ]
  },
  {
   "cell_type": "code",
   "execution_count": 14,
   "id": "89bf1bf3",
   "metadata": {},
   "outputs": [],
   "source": [
    "# copyt the image address of any image on the web\n",
    "url_1 ='https://live.staticflickr.com/65535/48228107796_58cbbc97af_b.jpg'"
   ]
  },
  {
   "cell_type": "code",
   "execution_count": 15,
   "id": "2ac636a1",
   "metadata": {},
   "outputs": [],
   "source": [
    "import requests\n",
    "r = requests.get(url_1)\n",
    "content = r.content"
   ]
  },
  {
   "cell_type": "code",
   "execution_count": 16,
   "id": "ccf89ea8",
   "metadata": {},
   "outputs": [],
   "source": [
    "import os\n",
    "os.chdir('G:\\My Drive\\Career\\IBM certificate\\Database')\n",
    "with open('image1.jpg', 'wb') as file:\n",
    "    file.write(content)"
   ]
  },
  {
   "cell_type": "markdown",
   "id": "d9fa817c",
   "metadata": {},
   "source": [
    "Method #2"
   ]
  },
  {
   "cell_type": "code",
   "execution_count": 17,
   "id": "fa20be15",
   "metadata": {},
   "outputs": [
    {
     "name": "stderr",
     "output_type": "stream",
     "text": [
      "--2021-10-31 19:07:01--  https://live.staticflickr.com/65535/48228107796_58cbbc97af_b.jpg\n",
      "Resolving live.staticflickr.com (live.staticflickr.com)... 2600:9000:20bc:400:0:5a51:64c9:c681, 2600:9000:20bc:4200:0:5a51:64c9:c681, 2600:9000:20bc:1000:0:5a51:64c9:c681, ...\n",
      "Connecting to live.staticflickr.com (live.staticflickr.com)|2600:9000:20bc:400:0:5a51:64c9:c681|:443... connected.\n",
      "WARNING: cannot verify live.staticflickr.com's certificate, issued by 'CN=Amazon,OU=Server CA 1B,O=Amazon,C=US':\n",
      "  Unable to locally verify the issuer's authority.\n",
      "HTTP request sent, awaiting response... 200 OK\n",
      "Length: unspecified [image/jpeg]\n",
      "Saving to: 'image2.jpg'\n",
      "\n",
      "     0K .......... .......... .......... .......... ..........  827K\n",
      "    50K .......... .......... .......... .......... ..........  333K\n",
      "   100K .......... .......... .......... .......... ..........  287K\n",
      "   150K .......... .......... .......... .........              934K=0.4s\n",
      "\n",
      "2021-10-31 19:07:02 (443 KB/s) - 'image2.jpg' saved [193612]\n",
      "\n"
     ]
    }
   ],
   "source": [
    "import wget\n",
    "!wget -O image2.jpg --no-check-certificate https://live.staticflickr.com/65535/48228107796_58cbbc97af_b.jpg"
   ]
  }
 ],
 "metadata": {
  "kernelspec": {
   "display_name": "Python 3",
   "language": "python",
   "name": "python3"
  },
  "language_info": {
   "codemirror_mode": {
    "name": "ipython",
    "version": 3
   },
   "file_extension": ".py",
   "mimetype": "text/x-python",
   "name": "python",
   "nbconvert_exporter": "python",
   "pygments_lexer": "ipython3",
   "version": "3.8.8"
  }
 },
 "nbformat": 4,
 "nbformat_minor": 5
}
