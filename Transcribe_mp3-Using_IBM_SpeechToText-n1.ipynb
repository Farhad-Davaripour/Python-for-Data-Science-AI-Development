{
 "cells": [
  {
   "cell_type": "markdown",
   "id": "f4ac5f85",
   "metadata": {},
   "source": [
    "### This hands on practice presents an easy and free method to transcribe your mp3 file using IBM speech to text-n1"
   ]
  },
  {
   "cell_type": "markdown",
   "id": "7e98818f",
   "metadata": {},
   "source": [
    "The skeleton of this code is based on the example provided in \"Python for Data Science, AI & Development\" course, provided by Coursera.org"
   ]
  },
  {
   "cell_type": "code",
   "execution_count": 28,
   "id": "d5831c00",
   "metadata": {},
   "outputs": [],
   "source": [
    "import os\n",
    "os.chdir('G:\\My Drive\\Career\\IBM certificate\\Database') # change this to your directory"
   ]
  },
  {
   "cell_type": "code",
   "execution_count": 29,
   "id": "8c63873c",
   "metadata": {},
   "outputs": [],
   "source": [
    "from ibm_watson import SpeechToTextV1\n",
    "import json\n",
    "from ibm_cloud_sdk_core.authenticators import IAMAuthenticator"
   ]
  },
  {
   "cell_type": "code",
   "execution_count": 30,
   "id": "9de2e739",
   "metadata": {},
   "outputs": [],
   "source": [
    "# Create an instance of speech to text-n1 from IBM Cloud catalog (You can use the lite account for free)\n",
    "# Then copy the url and apikey of the instance in here\n",
    "url_s2t = \"Copy your url in here\"\n",
    "Iam_apikey_s2t =\"Copy your apikey in here\" "
   ]
  },
  {
   "cell_type": "code",
   "execution_count": 31,
   "id": "2971cb58",
   "metadata": {},
   "outputs": [
    {
     "data": {
      "text/plain": [
       "<ibm_watson.speech_to_text_v1_adapter.SpeechToTextV1Adapter at 0x16f33edb910>"
      ]
     },
     "execution_count": 31,
     "metadata": {},
     "output_type": "execute_result"
    }
   ],
   "source": [
    "authenticat = IAMAuthenticator(Iam_apikey_s2t)\n",
    "s2t = SpeechToTextV1(authenticator=authenticat)\n",
    "s2t.set_service_url(url_s2t)\n",
    "s2t"
   ]
  },
  {
   "cell_type": "code",
   "execution_count": 32,
   "id": "1fb44009",
   "metadata": {},
   "outputs": [],
   "source": [
    "# create an mp3 file and locate it in your current directory\n",
    "filename='my_voice.mp3'"
   ]
  },
  {
   "cell_type": "code",
   "execution_count": 33,
   "id": "b1add959",
   "metadata": {},
   "outputs": [],
   "source": [
    "with open(filename, mode = 'rb') as wave:\n",
    "    response = s2t.recognize(audio=wave, content_type='audio/mp3') # The file transcription is stored in response as a dictionary"
   ]
  },
  {
   "cell_type": "code",
   "execution_count": 34,
   "id": "6f1f79b3",
   "metadata": {},
   "outputs": [],
   "source": [
    "import docx\n",
    "document = docx.Document()    \n",
    "result = response.result\n",
    "import pandas as pd\n",
    "df = pd.DataFrame(result[\"results\"]) # convert the response which is a dictionary to a DataFrame\n",
    "df2 = pd.DataFrame(df['alternatives'])\n",
    "with open('transcribe.txt', 'w') as file: #write the transcription to transcribe.txt\n",
    "    file.write(\"\")\n",
    "for i in range(len(df2)):\n",
    "    line = df2.iloc[i,0][0][\"transcript\"]\n",
    "\n",
    "    with open('transcribe.txt', 'a') as file:\n",
    "        file.write(line+'\\n')\n",
    "    \n",
    "    document.add_paragraph(line+'\\n')# also write the transcription to transcribe.docx if you want to use MS word file\n",
    "    document.save(\"transcribe.docx\")"
   ]
  }
 ],
 "metadata": {
  "kernelspec": {
   "display_name": "Python 3",
   "language": "python",
   "name": "python3"
  },
  "language_info": {
   "codemirror_mode": {
    "name": "ipython",
    "version": 3
   },
   "file_extension": ".py",
   "mimetype": "text/x-python",
   "name": "python",
   "nbconvert_exporter": "python",
   "pygments_lexer": "ipython3",
   "version": "3.8.8"
  }
 },
 "nbformat": 4,
 "nbformat_minor": 5
}
