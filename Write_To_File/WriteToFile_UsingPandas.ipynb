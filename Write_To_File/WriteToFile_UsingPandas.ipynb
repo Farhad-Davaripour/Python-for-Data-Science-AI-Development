{
 "cells": [
  {
   "cell_type": "markdown",
   "id": "497cda3a",
   "metadata": {},
   "source": [
    "__In this notebook the [problem](https://github.com/Farhad-Davaripour/Python-for-Data-Science-AI-Development/blob/main/Write_To_File/Write_To_File.ipynb)\n",
    "previously solved using built-in functions in python is solved more efficiently using Pandas library__"
   ]
  },
  {
   "cell_type": "code",
   "execution_count": 4,
   "id": "edba4f3a",
   "metadata": {},
   "outputs": [],
   "source": [
    "#changing the current directory\n",
    "import os\n",
    "curent_directory = 'G:\\My Drive\\Career\\IBM certificate\\Database'\n",
    "os.chdir(curent_directory) # change the curent_directory to your desired directory\n",
    "\n",
    "#importing random module\n",
    "from random import randint as rnd\n",
    "#importing pandas module\n",
    "import pandas as pd\n",
    "\n",
    "# Change the name of the files to your desired names\n",
    "path_original = 'originalFile.txt'\n",
    "path_current = 'currentMem.txt'\n",
    "path_ext = 'exMem.txt'\n",
    "##\n",
    "\n",
    "num_members = rnd(20,100) # define a random number of members\n",
    "\n",
    "with open(path_original, 'w+') as dataFile: # this function generates a file containing random list of employee num, date of registration, and registration status\n",
    "    dataFile.seek(0)\n",
    "    dataFile.write(\"Employee Number   Date   Active Column\\n\")#generating the first line in the file\n",
    "    data = '{:^15}{:<10}{:^13}\\n'\n",
    "\n",
    "    for each_member in range(num_members):\n",
    "        paid_fee = ('Yes', 'No')\n",
    "        date = str(rnd(1989,2021))+\"-\"+str(rnd(1,12))+\"-\"+str(rnd(1,31))\n",
    "        dataFile.write(data.format((rnd(10000, 88000)),(date),(paid_fee[rnd(0,1)])))\n",
    "\n",
    "\n",
    "active_mem = []\n",
    "\n",
    "with open(path_original, 'r') as fileRead:\n",
    "    file_cont = fileRead.readlines()\n",
    "    for i, line in enumerate(file_cont):\n",
    "        if \"No\" in line:\n",
    "            active_mem.append(i)# finding the employees who haven't paid the registration fee\n",
    "\n",
    "with open(path_current , 'w') as curFile: # Writing a new file with only those who paied the fees\n",
    "    for i in range(len(file_cont)):\n",
    "        if i not in active_mem:\n",
    "            curFile.write(file_cont[i])  \n",
    "\n",
    "with open(path_ext, 'w+') as extFile: #creating a separte file including those who did not pay the registration fees\n",
    "    extFile.seek(0)\n",
    "    extFile.write(\"Employee Number   Date   Active Column\\n\")\n",
    "    for i in active_mem:\n",
    "        extFile.write(file_cont[i])"
   ]
  }
 ],
 "metadata": {
  "kernelspec": {
   "display_name": "Python 3",
   "language": "python",
   "name": "python3"
  },
  "language_info": {
   "codemirror_mode": {
    "name": "ipython",
    "version": 3
   },
   "file_extension": ".py",
   "mimetype": "text/x-python",
   "name": "python",
   "nbconvert_exporter": "python",
   "pygments_lexer": "ipython3",
   "version": "3.8.8"
  }
 },
 "nbformat": 4,
 "nbformat_minor": 5
}
